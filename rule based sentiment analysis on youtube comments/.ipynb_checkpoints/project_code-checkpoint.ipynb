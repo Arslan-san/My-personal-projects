{
 "cells": [
  {
   "cell_type": "code",
   "execution_count": 47,
   "metadata": {},
   "outputs": [],
   "source": [
    "from apiclient.discovery import build\n",
    "from datetime import datetime\n",
    "import pandas as pd\n",
    "import numpy as np\n",
    "import matplotlib.pyplot as plt\n",
    "from matplotlib.pyplot import figure\n",
    "%matplotlib inline\n",
    "\n",
    "api_key = # provide youor api key\n",
    "youtube = build('youtube', 'v3', developerKey = api_key)"
   ]
  },
  {
   "cell_type": "code",
   "execution_count": 2,
   "metadata": {},
   "outputs": [],
   "source": [
    "def get_query_search_results(query,start_time,end_time):\n",
    "    searched_videos = []\n",
    "    next_page_token = None\n",
    "    for iteration in xrange(100):\n",
    "        #print 'iterarion number: ',iteration\n",
    "        res = youtube.search().list(q=query,\n",
    "                                    part='snippet',\n",
    "                                    type='video',\n",
    "                                    publishedAfter = start_time,\n",
    "                                    publishedBefore = end_time,\n",
    "                                    maxResults=50,\n",
    "                                    pageToken=next_page_token).execute()\n",
    "\n",
    "        searched_videos += res['items']\n",
    "        next_page_token = res.get('nextPageToken')\n",
    "        if next_page_token is None:\n",
    "            break\n",
    "    return searched_videos\n",
    "\n",
    "\n",
    "# get video stats\n",
    "def get_videos_stats(video_ids):    \n",
    "    stats = []\n",
    "    for i in range (0, len(video_ids), 50):\n",
    "        res = youtube.videos().list(id=','.join(video_ids[i:i+50]),\n",
    "                               part='statistics').execute()\n",
    "\n",
    "        stats += res['items']\n",
    "    return stats\n",
    "\n",
    "# get comments of videos\n",
    "\n",
    "def get_comment_threads_recursively(youtube, video_id, comments=[], token=\"\"):\n",
    "    results = youtube.commentThreads().list(\n",
    "        part=\"snippet\",\n",
    "        pageToken=token,\n",
    "        videoId=video_id,\n",
    "        textFormat=\"plainText\"\n",
    "    ).execute()\n",
    "    \n",
    "\n",
    "    for item in results[\"items\"]:\n",
    "        comment = item[\"snippet\"][\"topLevelComment\"]\n",
    "        text = comment[\"snippet\"][\"textDisplay\"]\n",
    "        comments.append(text)\n",
    "\n",
    "    if \"nextPageToken\" in results:\n",
    "        return get_comment_threads_recursively(youtube, video_id, comments, results[\"nextPageToken\"])\n",
    "    else:\n",
    "        return comments\n",
    "\n",
    "# This function receive dictionary and temporary array and iterates\n",
    "# all the keys and items of dictionary and return desired key,value pair \n",
    "def iterate_on_nested_dict(single_dict,temp_array):\n",
    "    for k, v in single_dict.iteritems():\n",
    "        if isinstance(v, dict):\n",
    "            iterate_on_nested_dict(v,temp_array)\n",
    "        else:\n",
    "            if k not in ['url','width','height','kind','etag','liveBroadcastContent']:\n",
    "                #print \"{0} : {1}\".format(k.encode('utf-8'), v.encode('utf-8'))\n",
    "                temp_array.append(v.encode('utf-8'))\n",
    "    return temp_array"
   ]
  },
  {
   "cell_type": "code",
   "execution_count": 3,
   "metadata": {},
   "outputs": [
    {
     "name": "stdout",
     "output_type": "stream",
     "text": [
      "Total 644 videos downloaded\n"
     ]
    }
   ],
   "source": [
    "start_time = datetime(year=2015, month=1, day=1).strftime('%Y-%m-%dT%H:%M:%SZ')\n",
    "end_time = datetime(year=2019, month=1, day=1).strftime('%Y-%m-%dT%H:%M:%SZ')\n",
    "query = 'Introduction to Deep Learning | Intro to Deep Learning'\n",
    "searched_videos = get_query_search_results(query,start_time,end_time)\n",
    "print 'Total {0} videos downloaded'.format(len(searched_videos))"
   ]
  },
  {
   "cell_type": "code",
   "execution_count": 4,
   "metadata": {},
   "outputs": [],
   "source": [
    "all_videos_data_list = []\n",
    "filter_videos_data_list = []\n",
    "intro_1 = set(['Introduction','Deep','Learning'])\n",
    "intro_2 = set(['Intro','Deep','Learning'])\n",
    "for index,single_dict in enumerate(searched_videos):\n",
    "    temp_array = []\n",
    "    all_videos_data_list.append(iterate_on_nested_dict(single_dict,temp_array))\n",
    "\n",
    "# Extract exact query related videos\n",
    "for i in (all_videos_data_list):\n",
    "    if intro_1.issubset(i[0].split(' ')) or intro_2.issubset(i[0].split(' ')):\n",
    "        filter_videos_data_list.append(i)\n",
    "\n",
    "searched_videos_DF = pd.DataFrame(data=filter_videos_data_list,columns=['title','channelId','publishedAt','channelTitle','description','videoId'])\n",
    "searched_videos_DF.to_csv('query_searched_videos.csv',index=False)"
   ]
  },
  {
   "cell_type": "code",
   "execution_count": 5,
   "metadata": {},
   "outputs": [],
   "source": [
    "#get complete stats of videos\n",
    "\n",
    "video_Ids = searched_videos_DF.videoId.tolist()\n",
    "videos_stats = get_videos_stats(video_Ids)\n",
    "\n",
    "data_stats_list = []\n",
    "for index,single_stat_dict in enumerate(videos_stats):\n",
    "    temp_array = []\n",
    "    data_stats_list.append(iterate_on_nested_dict(single_stat_dict,temp_array))    \n",
    "    \n",
    "complete_vidoes_stats_df = pd.DataFrame(data=data_stats_list,columns=['commentCount','viewCount','favoriteCount','dislikeCount','likeCount','videoId'])\n",
    "complete_vidoes_stats_df = complete_vidoes_stats_df[complete_vidoes_stats_df.viewCount != '0']\n",
    "complete_vidoes_stats_df.to_csv('complete_vidoes_stats_df.csv',index=False)"
   ]
  },
  {
   "cell_type": "code",
   "execution_count": 6,
   "metadata": {},
   "outputs": [
    {
     "name": "stdout",
     "output_type": "stream",
     "text": [
      "Stats of all videos also downloaded\n"
     ]
    }
   ],
   "source": [
    "#merge two dataframes on videoIds\n",
    "videos_with_stats_DF = pd.merge(searched_videos_DF, complete_vidoes_stats_df, on='videoId', how='inner', suffixes=('_left', '_right'))\n",
    "videos_with_stats_DF.drop_duplicates(inplace=True)\n",
    "videos_with_stats_DF.to_csv('videos_with_stats_DF.csv',index=False)\n",
    "\n",
    "print 'Stats of all videos also downloaded'"
   ]
  },
  {
   "cell_type": "code",
   "execution_count": 7,
   "metadata": {},
   "outputs": [
    {
     "name": "stdout",
     "output_type": "stream",
     "text": [
      "Comments of all videos also downloaded\n"
     ]
    }
   ],
   "source": [
    "# Now we will download all comments of all the voideos\n",
    "all_videos_comments_list = []\n",
    "\n",
    "for index,videoId in enumerate(complete_vidoes_stats_df['videoId'].tolist()):\n",
    "    comments = []\n",
    "    comments = get_comment_threads_recursively(youtube, videoId, comments=[], token=\"\")\n",
    "    all_videos_comments_list.append([videoId,comments])\n",
    "print 'Comments of all videos also downloaded'"
   ]
  },
  {
   "cell_type": "code",
   "execution_count": 8,
   "metadata": {},
   "outputs": [
    {
     "name": "stdout",
     "output_type": "stream",
     "text": [
      "So, finally downloaded the stats and comments of all the videos\n"
     ]
    }
   ],
   "source": [
    "all_video_comments_DF = pd.DataFrame(data=all_videos_comments_list,columns=['videoId','all_comments'])\n",
    "all_video_comments_DF = all_video_comments_DF.drop_duplicates(subset='videoId')\n",
    "all_video_comments_DF.to_csv('all_videos_comments.csv',index=False)\n",
    "\n",
    "# merge videos_with_stats_DF to videos_with_stats_comments_DF\n",
    "\n",
    "videos_with_stats_comments_DF = pd.merge(videos_with_stats_DF, all_video_comments_DF, on='videoId', how='inner', suffixes=('_left', '_right'))\n",
    "videos_with_stats_comments_DF.to_csv('videos_with_stats_comments_DF.csv',index=False)\n",
    "\n",
    "print 'So, finally downloaded the stats and comments of all the videos'\n"
   ]
  },
  {
   "cell_type": "code",
   "execution_count": 10,
   "metadata": {},
   "outputs": [
    {
     "name": "stderr",
     "output_type": "stream",
     "text": [
      "[nltk_data] Error loading vader_lexicon: <urlopen error [Errno 10060]\n",
      "[nltk_data]     A connection attempt failed because the connected\n",
      "[nltk_data]     party did not properly respond after a period of time,\n",
      "[nltk_data]     or established connection failed because connected\n",
      "[nltk_data]     host has failed to respond>\n"
     ]
    }
   ],
   "source": [
    "# check whether the comment is positive or negative or neutral by using nltk library called vader_lexicon\n",
    "import nltk\n",
    "import numpy as np\n",
    "nltk.download('vader_lexicon')\n",
    "from nltk.sentiment.vader import SentimentIntensityAnalyzer\n",
    "sia = SentimentIntensityAnalyzer()\n",
    "\n",
    "\n",
    "# According to vader lexicon\n",
    "\n",
    "# positive sentiment if compond score >= 0.05\n",
    "# neutral sentiment if (compound score > - 0.05) or (compund score < 0.05)\n",
    "# negative sentence if compound score <= -0.05\n",
    "\n",
    "complete_score_array = []\n",
    "\n",
    "for index,comments in enumerate(videos_with_stats_comments_DF['all_comments']):\n",
    "    score_array = []\n",
    "    for comment in comments:  \n",
    "        score = sia.polarity_scores(comment)\n",
    "        if score['compound'] <= -0.05:\n",
    "            #print 'negative ==> ',score, '==>', comment\n",
    "            score_array.append(-1)\n",
    "            pass\n",
    "        elif score['compound'] >= 0.05:\n",
    "            #print 'positive ==> ',score, '==>', comment\n",
    "            score_array.append(1)\n",
    "            pass\n",
    "        else:\n",
    "            #print 'neutral ==> ',score, '==>', comment\n",
    "            score_array.append(0)\n",
    "            pass\n",
    "    unique, counts = np.unique(score_array, return_counts=True)\n",
    "    complete_score_array.append(dict(zip(unique, counts)))\n",
    "    \n",
    "score_DF = pd.DataFrame(data=complete_score_array)\n",
    "    \n",
    "    "
   ]
  },
  {
   "cell_type": "code",
   "execution_count": 11,
   "metadata": {},
   "outputs": [],
   "source": [
    "# this function returns final remarks after receiving index of greater count from negative, positive,neutral comments\n",
    "def final_remarks(index):\n",
    "    if index == 0:\n",
    "        return 'negative'\n",
    "    elif index == 1:\n",
    "        return 'neutral'\n",
    "    else:\n",
    "        return 'positive'"
   ]
  },
  {
   "cell_type": "code",
   "execution_count": 12,
   "metadata": {},
   "outputs": [],
   "source": [
    "score_DF = (score_DF.fillna(0)).astype(int)\n",
    "score_DF.rename(columns={-1: 'negative_comment', 1: 'positive_comment', 0: 'neutral_comment'}, inplace=True)\n",
    "array = np.argmax((score_DF.values), axis=1)\n",
    "final_remarks = pd.DataFrame(data=[final_remarks(index) for index in array],columns=['final_remarks'])\n",
    "\n",
    "final_sentiment_DF = pd.concat([videos_with_stats_comments_DF, score_DF,final_remarks], axis=1)\n",
    "final_sentiment_DF.to_csv('final_sentiment_DF.csv',index=False)\n"
   ]
  },
  {
   "cell_type": "code",
   "execution_count": 2,
   "metadata": {},
   "outputs": [],
   "source": [
    "# Now we look at the top most videos\n",
    "final_sentiment_DF = pd.read_csv('final_sentiment_DF.csv')\n",
    "get_top_5_positive_videos = (final_sentiment_DF.sort_values(by=['positive_comment'],ascending=False)).head()\n",
    "get_top_10_positive_videos = (final_sentiment_DF.sort_values(by=['positive_comment'],ascending=False)).head(10)"
   ]
  },
  {
   "cell_type": "code",
   "execution_count": 3,
   "metadata": {},
   "outputs": [
    {
     "name": "stdout",
     "output_type": "stream",
     "text": [
      "This video  How to Make a Prediction - Intro to Deep Learning #1 has most positive impact on people by  Siraj Raval\n",
      "This video  How to Predict Stock Prices Easily - Intro to Deep Learning #7 has most positive impact on people by  Siraj Raval\n",
      "This video  How to Do Sentiment Analysis - Intro to Deep Learning #3 has most positive impact on people by  Siraj Raval\n",
      "This video  How to Make a Text Summarizer - Intro to Deep Learning #10 has most positive impact on people by  Siraj Raval\n",
      "This video  Deep Learning with Neural Networks and TensorFlow Introduction has most positive impact on people by  sentdex\n"
     ]
    }
   ],
   "source": [
    "for row_index in xrange(get_top_5_positive_videos.shape[0]):\n",
    "    print 'This video ',get_top_5_positive_videos['title'].iloc[row_index], \\\n",
    "    'has most positive impact on people by ',get_top_5_positive_videos['channelTitle'].iloc[row_index]"
   ]
  },
  {
   "cell_type": "code",
   "execution_count": 4,
   "metadata": {},
   "outputs": [
    {
     "name": "stdout",
     "output_type": "stream",
     "text": [
      "This video  How to Make a Prediction - Intro to Deep Learning #1 has most positive impact on people by  Siraj Raval\n",
      "This video  How to Predict Stock Prices Easily - Intro to Deep Learning #7 has most positive impact on people by  Siraj Raval\n",
      "This video  How to Do Sentiment Analysis - Intro to Deep Learning #3 has most positive impact on people by  Siraj Raval\n",
      "This video  How to Make a Text Summarizer - Intro to Deep Learning #10 has most positive impact on people by  Siraj Raval\n",
      "This video  Deep Learning with Neural Networks and TensorFlow Introduction has most positive impact on people by  sentdex\n",
      "This video  MIT 6.S094: Introduction to Deep Learning and Self-Driving Cars has most positive impact on people by  Lex Fridman\n",
      "This video  Deep Learning SIMPLIFIED: The Series Intro - Ep. 1 has most positive impact on people by  DeepLearning.TV\n",
      "This video  MIT 6.S191 (2018): Introduction to Deep Learning has most positive impact on people by  Alexander Amini\n",
      "This video  Deep Learning in the Browser with TensorFlow.js Introduction p.1 has most positive impact on people by  sentdex\n",
      "This video  Deep Learning Chapter 1 Introduction presented by Ian Goodfellow has most positive impact on people by  Alena Kruchkova\n"
     ]
    }
   ],
   "source": [
    "for row_index in xrange(get_top_10_positive_videos.shape[0]):\n",
    "    print 'This video ',get_top_10_positive_videos['title'].iloc[row_index], \\\n",
    "    'has most positive impact on people by ',get_top_10_positive_videos['channelTitle'].iloc[row_index]"
   ]
  },
  {
   "cell_type": "code",
   "execution_count": 52,
   "metadata": {},
   "outputs": [
    {
     "data": {
      "image/png": "[encoded data removed]",
      "text/plain": [
       "<Figure size 640x480 with 1 Axes>"
      ]
     },
     "metadata": {},
     "output_type": "display_data"
    }
   ],
   "source": [
    "name = list(get_top_5_positive_videos['channelTitle'])\n",
    "positive_count = list(get_top_5_positive_videos['positive_comment'])\n",
    "positive_count = [float(i) for i in positive_count]\n",
    "percentage = np.array((positive_count))*100/ np.sum(positive_count)\n",
    "percentage = [round(x) for x in calculate_percentage]\n",
    "\n",
    "# make pie chart \n",
    "\n",
    "labels = name\n",
    "sizes = calculate_percentage\n",
    "\n",
    "# Plot\n",
    "figure(num=None, figsize=(8, 6), dpi=80, facecolor='w', edgecolor='k')\n",
    "plt.pie(sizes, labels=labels, autopct='%1.1f%%', shadow=True, startangle=140)\n",
    "plt.title('Top videos related to your topic(intro to deep learning)')\n",
    "plt.axis('equal')\n",
    "plt.show()"
   ]
  }
 ],
 "metadata": {
  "kernelspec": {
   "display_name": "Python 2",
   "language": "python",
   "name": "python2"
  },
  "language_info": {
   "codemirror_mode": {
    "name": "ipython",
    "version": 2
   },
   "file_extension": ".py",
   "mimetype": "text/x-python",
   "name": "python",
   "nbconvert_exporter": "python",
   "pygments_lexer": "ipython2",
   "version": "2.7.11"
  }
 },
 "nbformat": 4,
 "nbformat_minor": 2
}
